{
 "cells": [
  {
   "cell_type": "markdown",
   "id": "36dd03b1-dc0a-4594-aae0-cd2a2a8dda3d",
   "metadata": {},
   "source": [
    "<h1> My Jupyter Notebook </h1> "
   ]
  },
  {
   "cell_type": "markdown",
   "id": "02b255f2-55d9-4baf-8ecd-d3b76f2b8987",
   "metadata": {},
   "source": [
    "<p><b>Mqdad Asaad</b></p>"
   ]
  },
  {
   "cell_type": "markdown",
   "id": "02418f93-eb3e-4e39-9e00-ef59c3f9d021",
   "metadata": {},
   "source": [
    "<p>I am a Mathematics Teacher</p>"
   ]
  },
  {
   "cell_type": "markdown",
   "id": "b7dbfe0d-76f4-451a-aae3-f121bd1a9da4",
   "metadata": {},
   "source": [
    "<p><i>I am interested in data science because I want to learn a new field related to programming</i></p>"
   ]
  },
  {
   "cell_type": "markdown",
   "id": "182fdb9b-1295-40a0-b9fb-aa566c9a87fe",
   "metadata": {},
   "source": [
    "<h3>The code in cell 5 assigns the addition operation 1 + 1 to the variable 'a' and normalizes the result of the addition</h3>"
   ]
  },
  {
   "cell_type": "code",
   "execution_count": 1,
   "id": "85fb17ff-0622-4247-8993-73571f636f5f",
   "metadata": {},
   "outputs": [
    {
     "data": {
      "text/plain": [
       "2"
      ]
     },
     "execution_count": 1,
     "metadata": {},
     "output_type": "execute_result"
    }
   ],
   "source": [
    "a=1+1\n",
    "a"
   ]
  },
  {
   "cell_type": "markdown",
   "id": "79409d5f-fd1f-4959-aae8-c0bceb3bd75b",
   "metadata": {},
   "source": [
    "<ul>\n",
    "  <li>python</li>\n",
    "  <li>c++</li>\n",
    "  <li>c#</li>\n",
    "</ul>\n",
    "<p>================</p>\n",
    "<ol>\n",
    "  <li>python</li>\n",
    "  <li>c++</li>\n",
    "  <li>c#</li>\n",
    "</ol>\n",
    "<p>=================</p>\n",
    "<table>\n",
    "    <tr>\n",
    "        <td>0</td>\n",
    "        <td>1</td>\n",
    "    </tr>\n",
    "    <td>python</td>\n",
    "    <td>c++</td>\n",
    "</table>\n",
    "<p>==================</p>\n",
    "<a href=\"https://www.coursera.org/\">coursera</a>\n",
    "<p>=================</p>\n",
    "<img src=\"this_image.jpg\" alt=\"this image\">"
   ]
  },
  {
   "cell_type": "code",
   "execution_count": null,
   "id": "e5373521-242c-4385-bcec-dc4ae5cd3f89",
   "metadata": {},
   "outputs": [],
   "source": []
  }
 ],
 "metadata": {
  "kernelspec": {
   "display_name": "Python",
   "language": "python",
   "name": "conda-env-python-py"
  },
  "language_info": {
   "codemirror_mode": {
    "name": "ipython",
    "version": 3
   },
   "file_extension": ".py",
   "mimetype": "text/x-python",
   "name": "python",
   "nbconvert_exporter": "python",
   "pygments_lexer": "ipython3",
   "version": "3.7.12"
  }
 },
 "nbformat": 4,
 "nbformat_minor": 5
}
